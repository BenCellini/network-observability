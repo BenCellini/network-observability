{
 "cells": [
  {
   "metadata": {},
   "cell_type": "markdown",
   "source": [
    "# Network Observability\n",
    "This example creates a simple feedforward PyTorch model with a linear output functions and randomized weights (not trained for a specific purpose). Then, it uses random sets of inputs to construct an observability matrix given measurements from specified neurons (output or hidden layer neurons). Then the Fisher information + inverse is computed and used to assess the observability of each network weight/bias. The network is visualized such that the measured neurons are indicated and the connections are colored by their observability level."
   ],
   "id": "9b9387f7880d0cad"
  },
  {
   "metadata": {
    "ExecuteTime": {
     "end_time": "2025-02-03T11:28:50.952712Z",
     "start_time": "2025-02-03T11:28:50.735051Z"
    }
   },
   "cell_type": "code",
   "source": [
    "%reset -f\n",
    "%load_ext autoreload\n",
    "%autoreload 2\n",
    "\n",
    "import numpy as np\n",
    "import pandas as pd\n",
    "import matplotlib as mpl\n",
    "import matplotlib.pyplot as plt\n",
    "\n",
    "import torch\n",
    "import torch.nn as nn\n",
    "from torchsummary import summary\n",
    "\n",
    "from pybounds import EmpiricalObservabilityMatrix, FisherObservability\n",
    "from network_simulator import NetworkSimulator\n",
    "from network_visualizer import FCNNVisualizer"
   ],
   "id": "3ad613988a5d8a8c",
   "outputs": [
    {
     "name": "stdout",
     "output_type": "stream",
     "text": [
      "The autoreload extension is already loaded. To reload it, use:\n",
      "  %reload_ext autoreload\n"
     ]
    }
   ],
   "execution_count": 180
  },
  {
   "metadata": {},
   "cell_type": "markdown",
   "source": "# Test pytorch GPU",
   "id": "57bd0aa5d4bb360"
  },
  {
   "metadata": {
    "ExecuteTime": {
     "end_time": "2025-02-03T11:28:51.000719Z",
     "start_time": "2025-02-03T11:28:50.953713Z"
    }
   },
   "cell_type": "code",
   "source": [
    "if torch.cuda.is_available():\n",
    "    device = torch.device(\"cuda\")\n",
    "    print(\"Using GPU:\", torch.cuda.get_device_name(0))\n",
    "else:\n",
    "    device = torch.device(\"cpu\")\n",
    "    print(\"Using CPU\")"
   ],
   "id": "36f7343093f0a555",
   "outputs": [
    {
     "name": "stdout",
     "output_type": "stream",
     "text": [
      "Using GPU: NVIDIA GeForce RTX 4070 SUPER\n"
     ]
    }
   ],
   "execution_count": 181
  },
  {
   "metadata": {},
   "cell_type": "markdown",
   "source": "# Define network",
   "id": "8ae03009266eed"
  },
  {
   "metadata": {
    "ExecuteTime": {
     "end_time": "2025-02-03T11:28:51.047762Z",
     "start_time": "2025-02-03T11:28:51.001719Z"
    }
   },
   "cell_type": "code",
   "source": [
    "# Define a simple feedforward neural network with 8 inputs and 2 outputs\n",
    "class SimpleNN(nn.Module):\n",
    "    def __init__(self):\n",
    "        super(SimpleNN, self).__init__()\n",
    "        # Three layers with no bias terms\n",
    "        self.fc1 = nn.Linear(8, 6, bias=False)\n",
    "        self.fc2 = nn.Linear(6, 4, bias=False)\n",
    "        self.fc3 = nn.Linear(4, 2, bias=False)\n",
    "\n",
    "    def forward(self, x):\n",
    "        # ReLu activations for input & hidden layers\n",
    "        x = torch.relu(self.fc1(x))\n",
    "        x = torch.relu(self.fc2(x))\n",
    "        x = self.fc3(x)\n",
    "        return x"
   ],
   "id": "844820f4805f2eff",
   "outputs": [],
   "execution_count": 182
  },
  {
   "metadata": {
    "ExecuteTime": {
     "end_time": "2025-02-03T11:28:51.093765Z",
     "start_time": "2025-02-03T11:28:51.048765Z"
    }
   },
   "cell_type": "code",
   "source": [
    "# Create the neural network\n",
    "model = SimpleNN().to(device)"
   ],
   "id": "2953df7a2390b509",
   "outputs": [],
   "execution_count": 183
  },
  {
   "metadata": {
    "ExecuteTime": {
     "end_time": "2025-02-03T11:28:51.139770Z",
     "start_time": "2025-02-03T11:28:51.094770Z"
    }
   },
   "cell_type": "code",
   "source": [
    "# Get a summary of the model\n",
    "summary(model, (8,))  # Input size: 8 features"
   ],
   "id": "27bde2995cd93d7a",
   "outputs": [
    {
     "name": "stdout",
     "output_type": "stream",
     "text": [
      "----------------------------------------------------------------\n",
      "        Layer (type)               Output Shape         Param #\n",
      "================================================================\n",
      "            Linear-1                    [-1, 6]              48\n",
      "            Linear-2                    [-1, 4]              24\n",
      "            Linear-3                    [-1, 2]               8\n",
      "================================================================\n",
      "Total params: 80\n",
      "Trainable params: 80\n",
      "Non-trainable params: 0\n",
      "----------------------------------------------------------------\n",
      "Input size (MB): 0.00\n",
      "Forward/backward pass size (MB): 0.00\n",
      "Params size (MB): 0.00\n",
      "Estimated Total Size (MB): 0.00\n",
      "----------------------------------------------------------------\n"
     ]
    }
   ],
   "execution_count": 184
  },
  {
   "metadata": {},
   "cell_type": "markdown",
   "source": "# Define simulator object for observability analysis",
   "id": "8f8d717e9dada48f"
  },
  {
   "metadata": {
    "ExecuteTime": {
     "end_time": "2025-02-03T11:28:51.186772Z",
     "start_time": "2025-02-03T11:28:51.140770Z"
    }
   },
   "cell_type": "code",
   "source": "simulator = NetworkSimulator(model, device=device, output_mode='full')",
   "id": "f7f020bc3e21a4a9",
   "outputs": [],
   "execution_count": 185
  },
  {
   "metadata": {
    "ExecuteTime": {
     "end_time": "2025-02-03T11:28:51.234450Z",
     "start_time": "2025-02-03T11:28:51.186772Z"
    }
   },
   "cell_type": "code",
   "source": [
    "layer_sizes = simulator.layer_sizes\n",
    "print('layer sizes:', layer_sizes)"
   ],
   "id": "95e4cd72c7a77503",
   "outputs": [
    {
     "name": "stdout",
     "output_type": "stream",
     "text": [
      "layer sizes: (8, 6, 4, 2)\n"
     ]
    }
   ],
   "execution_count": 186
  },
  {
   "metadata": {},
   "cell_type": "markdown",
   "source": "## Set network weights",
   "id": "c477c0c32232de27"
  },
  {
   "metadata": {
    "ExecuteTime": {
     "end_time": "2025-02-03T11:28:51.282473Z",
     "start_time": "2025-02-03T11:28:51.235450Z"
    }
   },
   "cell_type": "code",
   "source": [
    "# Randomly set weights for this example\n",
    "np.random.seed(seed=5)\n",
    "network_weights = np.random.normal(loc=0.0, scale=1.0, size=simulator.initial_weights_numpy.shape)\n",
    "simulator.set_weights(network_weights)"
   ],
   "id": "1f9637b048e4f340",
   "outputs": [],
   "execution_count": 187
  },
  {
   "metadata": {},
   "cell_type": "markdown",
   "source": "## Set inputs to use",
   "id": "a65539a469a8dff7"
  },
  {
   "metadata": {
    "ExecuteTime": {
     "end_time": "2025-02-03T11:28:51.328979Z",
     "start_time": "2025-02-03T11:28:51.283472Z"
    }
   },
   "cell_type": "code",
   "source": [
    "n_sample = 100  # number of input sequences to use, should be at least > then number of network parameters for observability\n",
    "torch.manual_seed(0)\n",
    "u = torch.rand((n_sample, simulator.param_shapes[0][1])).to(device)\n",
    "u_cpu = u.cpu().data.numpy()"
   ],
   "id": "b07f462ecc6f57e",
   "outputs": [],
   "execution_count": 188
  },
  {
   "metadata": {},
   "cell_type": "markdown",
   "source": "## Set what neurons to measure",
   "id": "624c4d6a2b161e0e"
  },
  {
   "metadata": {
    "ExecuteTime": {
     "end_time": "2025-02-03T11:28:51.374983Z",
     "start_time": "2025-02-03T11:28:51.329979Z"
    }
   },
   "cell_type": "code",
   "source": [
    "simulator.output_mask[0:-3] = 0  # set all but the last 3 neurons off (only measure the last 3 neurons)\n",
    "simulator.output_mask"
   ],
   "id": "9a1a87240cc69cab",
   "outputs": [
    {
     "data": {
      "text/plain": [
       "array([False, False, False, False, False, False, False, False, False,\n",
       "        True,  True,  True])"
      ]
     },
     "execution_count": 189,
     "metadata": {},
     "output_type": "execute_result"
    }
   ],
   "execution_count": 189
  },
  {
   "metadata": {},
   "cell_type": "markdown",
   "source": [
    "\n",
    "# Simulate the network with given weights & inputs"
   ],
   "id": "626ada94c745258d"
  },
  {
   "metadata": {
    "ExecuteTime": {
     "end_time": "2025-02-03T11:28:51.439031Z",
     "start_time": "2025-02-03T11:28:51.375982Z"
    }
   },
   "cell_type": "code",
   "source": [
    "y = simulator.simulate(x0=network_weights, u=u_cpu)\n",
    "print('Neurons measured:', simulator.measurement_names)"
   ],
   "id": "82d7bc8d82833157",
   "outputs": [
    {
     "name": "stdout",
     "output_type": "stream",
     "text": [
      "Neurons measured: ['fc2_neuron_4', 'fc3_neuron_1', 'fc3_neuron_2']\n"
     ]
    }
   ],
   "execution_count": 190
  },
  {
   "metadata": {
    "ExecuteTime": {
     "end_time": "2025-02-03T11:28:51.501064Z",
     "start_time": "2025-02-03T11:28:51.439031Z"
    }
   },
   "cell_type": "code",
   "source": [
    "print('Network measurements over time:')\n",
    "simulator.y"
   ],
   "id": "2f637c03e0c58536",
   "outputs": [
    {
     "name": "stdout",
     "output_type": "stream",
     "text": [
      "Network measurements over time:\n"
     ]
    },
    {
     "data": {
      "text/plain": [
       "    fc2_neuron_4  fc3_neuron_1  fc3_neuron_2\n",
       "0      -1.947829     -1.932013     -0.937522\n",
       "1      -2.296344     -0.818444     -0.387378\n",
       "2      -0.584032     -1.854919     -0.896310\n",
       "3       0.982790     -1.889509     -0.483685\n",
       "4       0.291877     -2.219034     -0.962902\n",
       "..           ...           ...           ...\n",
       "95     -4.845407     -1.496137     -0.726949\n",
       "96      3.734759     -6.018658     -1.288199\n",
       "97      4.016557     -6.564598     -1.428854\n",
       "98      0.547516     -1.848933     -0.661708\n",
       "99     -2.412309     -0.774816     -0.363031\n",
       "\n",
       "[100 rows x 3 columns]"
      ],
      "text/html": [
       "<div>\n",
       "<style scoped>\n",
       "    .dataframe tbody tr th:only-of-type {\n",
       "        vertical-align: middle;\n",
       "    }\n",
       "\n",
       "    .dataframe tbody tr th {\n",
       "        vertical-align: top;\n",
       "    }\n",
       "\n",
       "    .dataframe thead th {\n",
       "        text-align: right;\n",
       "    }\n",
       "</style>\n",
       "<table border=\"1\" class=\"dataframe\">\n",
       "  <thead>\n",
       "    <tr style=\"text-align: right;\">\n",
       "      <th></th>\n",
       "      <th>fc2_neuron_4</th>\n",
       "      <th>fc3_neuron_1</th>\n",
       "      <th>fc3_neuron_2</th>\n",
       "    </tr>\n",
       "  </thead>\n",
       "  <tbody>\n",
       "    <tr>\n",
       "      <th>0</th>\n",
       "      <td>-1.947829</td>\n",
       "      <td>-1.932013</td>\n",
       "      <td>-0.937522</td>\n",
       "    </tr>\n",
       "    <tr>\n",
       "      <th>1</th>\n",
       "      <td>-2.296344</td>\n",
       "      <td>-0.818444</td>\n",
       "      <td>-0.387378</td>\n",
       "    </tr>\n",
       "    <tr>\n",
       "      <th>2</th>\n",
       "      <td>-0.584032</td>\n",
       "      <td>-1.854919</td>\n",
       "      <td>-0.896310</td>\n",
       "    </tr>\n",
       "    <tr>\n",
       "      <th>3</th>\n",
       "      <td>0.982790</td>\n",
       "      <td>-1.889509</td>\n",
       "      <td>-0.483685</td>\n",
       "    </tr>\n",
       "    <tr>\n",
       "      <th>4</th>\n",
       "      <td>0.291877</td>\n",
       "      <td>-2.219034</td>\n",
       "      <td>-0.962902</td>\n",
       "    </tr>\n",
       "    <tr>\n",
       "      <th>...</th>\n",
       "      <td>...</td>\n",
       "      <td>...</td>\n",
       "      <td>...</td>\n",
       "    </tr>\n",
       "    <tr>\n",
       "      <th>95</th>\n",
       "      <td>-4.845407</td>\n",
       "      <td>-1.496137</td>\n",
       "      <td>-0.726949</td>\n",
       "    </tr>\n",
       "    <tr>\n",
       "      <th>96</th>\n",
       "      <td>3.734759</td>\n",
       "      <td>-6.018658</td>\n",
       "      <td>-1.288199</td>\n",
       "    </tr>\n",
       "    <tr>\n",
       "      <th>97</th>\n",
       "      <td>4.016557</td>\n",
       "      <td>-6.564598</td>\n",
       "      <td>-1.428854</td>\n",
       "    </tr>\n",
       "    <tr>\n",
       "      <th>98</th>\n",
       "      <td>0.547516</td>\n",
       "      <td>-1.848933</td>\n",
       "      <td>-0.661708</td>\n",
       "    </tr>\n",
       "    <tr>\n",
       "      <th>99</th>\n",
       "      <td>-2.412309</td>\n",
       "      <td>-0.774816</td>\n",
       "      <td>-0.363031</td>\n",
       "    </tr>\n",
       "  </tbody>\n",
       "</table>\n",
       "<p>100 rows × 3 columns</p>\n",
       "</div>"
      ]
     },
     "execution_count": 191,
     "metadata": {},
     "output_type": "execute_result"
    }
   ],
   "execution_count": 191
  },
  {
   "metadata": {},
   "cell_type": "markdown",
   "source": "# Construct observability matrix",
   "id": "d51b0efa56ec0949"
  },
  {
   "metadata": {
    "ExecuteTime": {
     "end_time": "2025-02-03T11:28:52.992753Z",
     "start_time": "2025-02-03T11:28:51.502064Z"
    }
   },
   "cell_type": "code",
   "source": "EOM = EmpiricalObservabilityMatrix(simulator, x0=network_weights, u=u_cpu, eps=1e-5, parallel=False)",
   "id": "9517ca63f8a863ae",
   "outputs": [],
   "execution_count": 192
  },
  {
   "metadata": {
    "ExecuteTime": {
     "end_time": "2025-02-03T11:28:53.054746Z",
     "start_time": "2025-02-03T11:28:52.993748Z"
    }
   },
   "cell_type": "code",
   "source": [
    "O = EOM.O_df\n",
    "O"
   ],
   "id": "9d1e6161de110c44",
   "outputs": [
    {
     "data": {
      "text/plain": [
       "                        fc1_weight_0  fc1_weight_1  fc1_weight_2  \\\n",
       "sensor       time_step                                             \n",
       "fc2_neuron_4 0              0.584126      0.917912      0.107288   \n",
       "fc3_neuron_1 0              0.369549      0.590086      0.059605   \n",
       "fc3_neuron_2 0              0.187755      0.292063      0.032783   \n",
       "fc2_neuron_4 1              0.548363      0.739098      0.417233   \n",
       "fc3_neuron_1 1              0.110269      0.154972      0.086427   \n",
       "...                              ...           ...           ...   \n",
       "             98            -0.208616     -0.274181     -0.309944   \n",
       "fc3_neuron_2 98             0.020862      0.026822      0.032783   \n",
       "fc2_neuron_4 99             1.156330      0.751019      0.369549   \n",
       "fc3_neuron_1 99            -0.354648     -0.235438     -0.119209   \n",
       "fc3_neuron_2 99            -0.169873     -0.113249     -0.053644   \n",
       "\n",
       "                        fc1_weight_3  fc1_weight_4  fc1_weight_5  \\\n",
       "sensor       time_step                                             \n",
       "fc2_neuron_4 0              0.154972      0.369549      0.751019   \n",
       "fc3_neuron_1 0              0.089407      0.226498      0.464916   \n",
       "fc3_neuron_2 0              0.041723      0.122190      0.235438   \n",
       "fc2_neuron_4 1              0.476837      0.023842      0.202656   \n",
       "fc3_neuron_1 1              0.101328      0.002980      0.041723   \n",
       "...                              ...           ...           ...   \n",
       "             98            -0.011921     -0.482798     -0.524521   \n",
       "fc3_neuron_2 98             0.000000      0.044703      0.047684   \n",
       "fc2_neuron_4 99             0.345707      0.214577      0.178814   \n",
       "fc3_neuron_1 99            -0.119209     -0.065565     -0.056624   \n",
       "fc3_neuron_2 99            -0.055134     -0.029802     -0.025332   \n",
       "\n",
       "                        fc1_weight_6  fc1_weight_7  fc1_weight_8  \\\n",
       "sensor       time_step                                             \n",
       "fc2_neuron_4 0              0.584126      1.072884           0.0   \n",
       "fc3_neuron_1 0              0.369549      0.679493           0.0   \n",
       "fc3_neuron_2 0              0.187755      0.342727           0.0   \n",
       "fc2_neuron_4 1              0.357628      0.619888           0.0   \n",
       "fc3_neuron_1 1              0.071526      0.128150           0.0   \n",
       "...                              ...           ...           ...   \n",
       "             98            -0.447035     -0.590086           0.0   \n",
       "fc3_neuron_2 98             0.044703      0.056624           0.0   \n",
       "fc2_neuron_4 99             0.500679      0.488758           0.0   \n",
       "fc3_neuron_1 99            -0.146031     -0.146031           0.0   \n",
       "fc3_neuron_2 99            -0.068545     -0.068545           0.0   \n",
       "\n",
       "                        fc1_weight_9  ...  fc2_weight_22  fc2_weight_23  \\\n",
       "sensor       time_step                ...                                 \n",
       "fc2_neuron_4 0                   0.0  ...       2.217293       1.442432   \n",
       "fc3_neuron_1 0                   0.0  ...       0.000000       0.000000   \n",
       "fc3_neuron_2 0                   0.0  ...       0.000000       0.000000   \n",
       "fc2_neuron_4 1                   0.0  ...       1.025200       0.548363   \n",
       "fc3_neuron_1 1                   0.0  ...       0.000000       0.000000   \n",
       "...                              ...  ...            ...            ...   \n",
       "             98                  0.0  ...      -2.568960      -2.282858   \n",
       "fc3_neuron_2 98                  0.0  ...      -0.447035      -0.396371   \n",
       "fc2_neuron_4 99                  0.0  ...       0.834465       0.464916   \n",
       "fc3_neuron_1 99                  0.0  ...       0.000000       0.000000   \n",
       "fc3_neuron_2 99                  0.0  ...       0.000000       0.000000   \n",
       "\n",
       "                        fc3_weight_0  fc3_weight_1  fc3_weight_2  \\\n",
       "sensor       time_step                                             \n",
       "fc2_neuron_4 0              0.000000      0.000000      0.000000   \n",
       "fc3_neuron_1 0              0.000000      3.194809      0.494719   \n",
       "fc3_neuron_2 0              0.000000      0.000000      0.000000   \n",
       "fc2_neuron_4 1              0.000000      0.000000      0.000000   \n",
       "fc3_neuron_1 1              0.000000      1.916289      0.000000   \n",
       "...                              ...           ...           ...   \n",
       "             98             0.000000      1.645088      0.327826   \n",
       "fc3_neuron_2 98             0.000000      0.000000      0.000000   \n",
       "fc2_neuron_4 99             0.000000      0.000000      0.000000   \n",
       "fc3_neuron_1 99             0.348687      3.302097      0.000000   \n",
       "fc3_neuron_2 99             0.000000      0.000000      0.000000   \n",
       "\n",
       "                        fc3_weight_3  fc3_weight_4  fc3_weight_5  \\\n",
       "sensor       time_step                                             \n",
       "fc2_neuron_4 0              0.000000      0.000000      0.000000   \n",
       "fc3_neuron_1 0              0.000000      0.000000      0.000000   \n",
       "fc3_neuron_2 0              0.000000      0.000000      3.188848   \n",
       "fc2_neuron_4 1              0.000000      0.000000      0.000000   \n",
       "fc3_neuron_1 1              0.000000      0.000000      0.000000   \n",
       "...                              ...           ...           ...   \n",
       "             98             0.548363      0.000000      0.000000   \n",
       "fc3_neuron_2 98             0.000000      0.000000      1.648068   \n",
       "fc2_neuron_4 99             0.000000      0.000000      0.000000   \n",
       "fc3_neuron_1 99             0.000000      0.000000      0.000000   \n",
       "fc3_neuron_2 99             0.000000      0.348687      3.305078   \n",
       "\n",
       "                        fc3_weight_6  fc3_weight_7  \n",
       "sensor       time_step                              \n",
       "fc2_neuron_4 0              0.000000      0.000000  \n",
       "fc3_neuron_1 0              0.000000      0.000000  \n",
       "fc3_neuron_2 0              0.488758      0.000000  \n",
       "fc2_neuron_4 1              0.000000      0.000000  \n",
       "fc3_neuron_1 1              0.000000      0.000000  \n",
       "...                              ...           ...  \n",
       "             98             0.000000      0.000000  \n",
       "fc3_neuron_2 98             0.327826      0.545382  \n",
       "fc2_neuron_4 99             0.000000      0.000000  \n",
       "fc3_neuron_1 99             0.000000      0.000000  \n",
       "fc3_neuron_2 99             0.000000      0.000000  \n",
       "\n",
       "[300 rows x 80 columns]"
      ],
      "text/html": [
       "<div>\n",
       "<style scoped>\n",
       "    .dataframe tbody tr th:only-of-type {\n",
       "        vertical-align: middle;\n",
       "    }\n",
       "\n",
       "    .dataframe tbody tr th {\n",
       "        vertical-align: top;\n",
       "    }\n",
       "\n",
       "    .dataframe thead th {\n",
       "        text-align: right;\n",
       "    }\n",
       "</style>\n",
       "<table border=\"1\" class=\"dataframe\">\n",
       "  <thead>\n",
       "    <tr style=\"text-align: right;\">\n",
       "      <th></th>\n",
       "      <th></th>\n",
       "      <th>fc1_weight_0</th>\n",
       "      <th>fc1_weight_1</th>\n",
       "      <th>fc1_weight_2</th>\n",
       "      <th>fc1_weight_3</th>\n",
       "      <th>fc1_weight_4</th>\n",
       "      <th>fc1_weight_5</th>\n",
       "      <th>fc1_weight_6</th>\n",
       "      <th>fc1_weight_7</th>\n",
       "      <th>fc1_weight_8</th>\n",
       "      <th>fc1_weight_9</th>\n",
       "      <th>...</th>\n",
       "      <th>fc2_weight_22</th>\n",
       "      <th>fc2_weight_23</th>\n",
       "      <th>fc3_weight_0</th>\n",
       "      <th>fc3_weight_1</th>\n",
       "      <th>fc3_weight_2</th>\n",
       "      <th>fc3_weight_3</th>\n",
       "      <th>fc3_weight_4</th>\n",
       "      <th>fc3_weight_5</th>\n",
       "      <th>fc3_weight_6</th>\n",
       "      <th>fc3_weight_7</th>\n",
       "    </tr>\n",
       "    <tr>\n",
       "      <th>sensor</th>\n",
       "      <th>time_step</th>\n",
       "      <th></th>\n",
       "      <th></th>\n",
       "      <th></th>\n",
       "      <th></th>\n",
       "      <th></th>\n",
       "      <th></th>\n",
       "      <th></th>\n",
       "      <th></th>\n",
       "      <th></th>\n",
       "      <th></th>\n",
       "      <th></th>\n",
       "      <th></th>\n",
       "      <th></th>\n",
       "      <th></th>\n",
       "      <th></th>\n",
       "      <th></th>\n",
       "      <th></th>\n",
       "      <th></th>\n",
       "      <th></th>\n",
       "      <th></th>\n",
       "      <th></th>\n",
       "    </tr>\n",
       "  </thead>\n",
       "  <tbody>\n",
       "    <tr>\n",
       "      <th>fc2_neuron_4</th>\n",
       "      <th>0</th>\n",
       "      <td>0.584126</td>\n",
       "      <td>0.917912</td>\n",
       "      <td>0.107288</td>\n",
       "      <td>0.154972</td>\n",
       "      <td>0.369549</td>\n",
       "      <td>0.751019</td>\n",
       "      <td>0.584126</td>\n",
       "      <td>1.072884</td>\n",
       "      <td>0.0</td>\n",
       "      <td>0.0</td>\n",
       "      <td>...</td>\n",
       "      <td>2.217293</td>\n",
       "      <td>1.442432</td>\n",
       "      <td>0.000000</td>\n",
       "      <td>0.000000</td>\n",
       "      <td>0.000000</td>\n",
       "      <td>0.000000</td>\n",
       "      <td>0.000000</td>\n",
       "      <td>0.000000</td>\n",
       "      <td>0.000000</td>\n",
       "      <td>0.000000</td>\n",
       "    </tr>\n",
       "    <tr>\n",
       "      <th>fc3_neuron_1</th>\n",
       "      <th>0</th>\n",
       "      <td>0.369549</td>\n",
       "      <td>0.590086</td>\n",
       "      <td>0.059605</td>\n",
       "      <td>0.089407</td>\n",
       "      <td>0.226498</td>\n",
       "      <td>0.464916</td>\n",
       "      <td>0.369549</td>\n",
       "      <td>0.679493</td>\n",
       "      <td>0.0</td>\n",
       "      <td>0.0</td>\n",
       "      <td>...</td>\n",
       "      <td>0.000000</td>\n",
       "      <td>0.000000</td>\n",
       "      <td>0.000000</td>\n",
       "      <td>3.194809</td>\n",
       "      <td>0.494719</td>\n",
       "      <td>0.000000</td>\n",
       "      <td>0.000000</td>\n",
       "      <td>0.000000</td>\n",
       "      <td>0.000000</td>\n",
       "      <td>0.000000</td>\n",
       "    </tr>\n",
       "    <tr>\n",
       "      <th>fc3_neuron_2</th>\n",
       "      <th>0</th>\n",
       "      <td>0.187755</td>\n",
       "      <td>0.292063</td>\n",
       "      <td>0.032783</td>\n",
       "      <td>0.041723</td>\n",
       "      <td>0.122190</td>\n",
       "      <td>0.235438</td>\n",
       "      <td>0.187755</td>\n",
       "      <td>0.342727</td>\n",
       "      <td>0.0</td>\n",
       "      <td>0.0</td>\n",
       "      <td>...</td>\n",
       "      <td>0.000000</td>\n",
       "      <td>0.000000</td>\n",
       "      <td>0.000000</td>\n",
       "      <td>0.000000</td>\n",
       "      <td>0.000000</td>\n",
       "      <td>0.000000</td>\n",
       "      <td>0.000000</td>\n",
       "      <td>3.188848</td>\n",
       "      <td>0.488758</td>\n",
       "      <td>0.000000</td>\n",
       "    </tr>\n",
       "    <tr>\n",
       "      <th>fc2_neuron_4</th>\n",
       "      <th>1</th>\n",
       "      <td>0.548363</td>\n",
       "      <td>0.739098</td>\n",
       "      <td>0.417233</td>\n",
       "      <td>0.476837</td>\n",
       "      <td>0.023842</td>\n",
       "      <td>0.202656</td>\n",
       "      <td>0.357628</td>\n",
       "      <td>0.619888</td>\n",
       "      <td>0.0</td>\n",
       "      <td>0.0</td>\n",
       "      <td>...</td>\n",
       "      <td>1.025200</td>\n",
       "      <td>0.548363</td>\n",
       "      <td>0.000000</td>\n",
       "      <td>0.000000</td>\n",
       "      <td>0.000000</td>\n",
       "      <td>0.000000</td>\n",
       "      <td>0.000000</td>\n",
       "      <td>0.000000</td>\n",
       "      <td>0.000000</td>\n",
       "      <td>0.000000</td>\n",
       "    </tr>\n",
       "    <tr>\n",
       "      <th rowspan=\"3\" valign=\"top\">fc3_neuron_1</th>\n",
       "      <th>1</th>\n",
       "      <td>0.110269</td>\n",
       "      <td>0.154972</td>\n",
       "      <td>0.086427</td>\n",
       "      <td>0.101328</td>\n",
       "      <td>0.002980</td>\n",
       "      <td>0.041723</td>\n",
       "      <td>0.071526</td>\n",
       "      <td>0.128150</td>\n",
       "      <td>0.0</td>\n",
       "      <td>0.0</td>\n",
       "      <td>...</td>\n",
       "      <td>0.000000</td>\n",
       "      <td>0.000000</td>\n",
       "      <td>0.000000</td>\n",
       "      <td>1.916289</td>\n",
       "      <td>0.000000</td>\n",
       "      <td>0.000000</td>\n",
       "      <td>0.000000</td>\n",
       "      <td>0.000000</td>\n",
       "      <td>0.000000</td>\n",
       "      <td>0.000000</td>\n",
       "    </tr>\n",
       "    <tr>\n",
       "      <th>...</th>\n",
       "      <td>...</td>\n",
       "      <td>...</td>\n",
       "      <td>...</td>\n",
       "      <td>...</td>\n",
       "      <td>...</td>\n",
       "      <td>...</td>\n",
       "      <td>...</td>\n",
       "      <td>...</td>\n",
       "      <td>...</td>\n",
       "      <td>...</td>\n",
       "      <td>...</td>\n",
       "      <td>...</td>\n",
       "      <td>...</td>\n",
       "      <td>...</td>\n",
       "      <td>...</td>\n",
       "      <td>...</td>\n",
       "      <td>...</td>\n",
       "      <td>...</td>\n",
       "      <td>...</td>\n",
       "      <td>...</td>\n",
       "      <td>...</td>\n",
       "    </tr>\n",
       "    <tr>\n",
       "      <th>98</th>\n",
       "      <td>-0.208616</td>\n",
       "      <td>-0.274181</td>\n",
       "      <td>-0.309944</td>\n",
       "      <td>-0.011921</td>\n",
       "      <td>-0.482798</td>\n",
       "      <td>-0.524521</td>\n",
       "      <td>-0.447035</td>\n",
       "      <td>-0.590086</td>\n",
       "      <td>0.0</td>\n",
       "      <td>0.0</td>\n",
       "      <td>...</td>\n",
       "      <td>-2.568960</td>\n",
       "      <td>-2.282858</td>\n",
       "      <td>0.000000</td>\n",
       "      <td>1.645088</td>\n",
       "      <td>0.327826</td>\n",
       "      <td>0.548363</td>\n",
       "      <td>0.000000</td>\n",
       "      <td>0.000000</td>\n",
       "      <td>0.000000</td>\n",
       "      <td>0.000000</td>\n",
       "    </tr>\n",
       "    <tr>\n",
       "      <th>fc3_neuron_2</th>\n",
       "      <th>98</th>\n",
       "      <td>0.020862</td>\n",
       "      <td>0.026822</td>\n",
       "      <td>0.032783</td>\n",
       "      <td>0.000000</td>\n",
       "      <td>0.044703</td>\n",
       "      <td>0.047684</td>\n",
       "      <td>0.044703</td>\n",
       "      <td>0.056624</td>\n",
       "      <td>0.0</td>\n",
       "      <td>0.0</td>\n",
       "      <td>...</td>\n",
       "      <td>-0.447035</td>\n",
       "      <td>-0.396371</td>\n",
       "      <td>0.000000</td>\n",
       "      <td>0.000000</td>\n",
       "      <td>0.000000</td>\n",
       "      <td>0.000000</td>\n",
       "      <td>0.000000</td>\n",
       "      <td>1.648068</td>\n",
       "      <td>0.327826</td>\n",
       "      <td>0.545382</td>\n",
       "    </tr>\n",
       "    <tr>\n",
       "      <th>fc2_neuron_4</th>\n",
       "      <th>99</th>\n",
       "      <td>1.156330</td>\n",
       "      <td>0.751019</td>\n",
       "      <td>0.369549</td>\n",
       "      <td>0.345707</td>\n",
       "      <td>0.214577</td>\n",
       "      <td>0.178814</td>\n",
       "      <td>0.500679</td>\n",
       "      <td>0.488758</td>\n",
       "      <td>0.0</td>\n",
       "      <td>0.0</td>\n",
       "      <td>...</td>\n",
       "      <td>0.834465</td>\n",
       "      <td>0.464916</td>\n",
       "      <td>0.000000</td>\n",
       "      <td>0.000000</td>\n",
       "      <td>0.000000</td>\n",
       "      <td>0.000000</td>\n",
       "      <td>0.000000</td>\n",
       "      <td>0.000000</td>\n",
       "      <td>0.000000</td>\n",
       "      <td>0.000000</td>\n",
       "    </tr>\n",
       "    <tr>\n",
       "      <th>fc3_neuron_1</th>\n",
       "      <th>99</th>\n",
       "      <td>-0.354648</td>\n",
       "      <td>-0.235438</td>\n",
       "      <td>-0.119209</td>\n",
       "      <td>-0.119209</td>\n",
       "      <td>-0.065565</td>\n",
       "      <td>-0.056624</td>\n",
       "      <td>-0.146031</td>\n",
       "      <td>-0.146031</td>\n",
       "      <td>0.0</td>\n",
       "      <td>0.0</td>\n",
       "      <td>...</td>\n",
       "      <td>0.000000</td>\n",
       "      <td>0.000000</td>\n",
       "      <td>0.348687</td>\n",
       "      <td>3.302097</td>\n",
       "      <td>0.000000</td>\n",
       "      <td>0.000000</td>\n",
       "      <td>0.000000</td>\n",
       "      <td>0.000000</td>\n",
       "      <td>0.000000</td>\n",
       "      <td>0.000000</td>\n",
       "    </tr>\n",
       "    <tr>\n",
       "      <th>fc3_neuron_2</th>\n",
       "      <th>99</th>\n",
       "      <td>-0.169873</td>\n",
       "      <td>-0.113249</td>\n",
       "      <td>-0.053644</td>\n",
       "      <td>-0.055134</td>\n",
       "      <td>-0.029802</td>\n",
       "      <td>-0.025332</td>\n",
       "      <td>-0.068545</td>\n",
       "      <td>-0.068545</td>\n",
       "      <td>0.0</td>\n",
       "      <td>0.0</td>\n",
       "      <td>...</td>\n",
       "      <td>0.000000</td>\n",
       "      <td>0.000000</td>\n",
       "      <td>0.000000</td>\n",
       "      <td>0.000000</td>\n",
       "      <td>0.000000</td>\n",
       "      <td>0.000000</td>\n",
       "      <td>0.348687</td>\n",
       "      <td>3.305078</td>\n",
       "      <td>0.000000</td>\n",
       "      <td>0.000000</td>\n",
       "    </tr>\n",
       "  </tbody>\n",
       "</table>\n",
       "<p>300 rows × 80 columns</p>\n",
       "</div>"
      ]
     },
     "execution_count": 193,
     "metadata": {},
     "output_type": "execute_result"
    }
   ],
   "execution_count": 193
  },
  {
   "metadata": {},
   "cell_type": "markdown",
   "source": "# Compute the Fisher information & min. error covariance of each network parameter",
   "id": "27f138fc48564e4b"
  },
  {
   "metadata": {
    "ExecuteTime": {
     "end_time": "2025-02-03T11:28:53.131067Z",
     "start_time": "2025-02-03T11:28:53.055747Z"
    }
   },
   "cell_type": "code",
   "source": [
    "FO = FisherObservability(O, R=0.1, lam=1e-8)  # R is the noise level for the measurement of each neuron, lambda is the upper bound on the error variance. See pybounds: https://github.com/vanbreugel-lab/pybounds\n",
    "F, F_inv, R = FO.get_fisher_information()"
   ],
   "id": "4d306f1e255b6453",
   "outputs": [],
   "execution_count": 194
  },
  {
   "metadata": {
    "ExecuteTime": {
     "end_time": "2025-02-03T11:28:53.193581Z",
     "start_time": "2025-02-03T11:28:53.131067Z"
    }
   },
   "cell_type": "code",
   "source": [
    "MEV = pd.DataFrame(np.diag(F_inv), index=F_inv.columns)\n",
    "error_variance = MEV.values.squeeze()\n",
    "MEV"
   ],
   "id": "30d417a3472cd379",
   "outputs": [
    {
     "data": {
      "text/plain": [
       "                         0\n",
       "fc1_weight_0      0.305257\n",
       "fc1_weight_1      0.400911\n",
       "fc1_weight_2      4.157347\n",
       "fc1_weight_3      0.487049\n",
       "fc1_weight_4      0.280785\n",
       "...                    ...\n",
       "fc3_weight_3      0.006460\n",
       "fc3_weight_4  93089.653287\n",
       "fc3_weight_5      0.314354\n",
       "fc3_weight_6     22.810324\n",
       "fc3_weight_7      0.001719\n",
       "\n",
       "[80 rows x 1 columns]"
      ],
      "text/html": [
       "<div>\n",
       "<style scoped>\n",
       "    .dataframe tbody tr th:only-of-type {\n",
       "        vertical-align: middle;\n",
       "    }\n",
       "\n",
       "    .dataframe tbody tr th {\n",
       "        vertical-align: top;\n",
       "    }\n",
       "\n",
       "    .dataframe thead th {\n",
       "        text-align: right;\n",
       "    }\n",
       "</style>\n",
       "<table border=\"1\" class=\"dataframe\">\n",
       "  <thead>\n",
       "    <tr style=\"text-align: right;\">\n",
       "      <th></th>\n",
       "      <th>0</th>\n",
       "    </tr>\n",
       "  </thead>\n",
       "  <tbody>\n",
       "    <tr>\n",
       "      <th>fc1_weight_0</th>\n",
       "      <td>0.305257</td>\n",
       "    </tr>\n",
       "    <tr>\n",
       "      <th>fc1_weight_1</th>\n",
       "      <td>0.400911</td>\n",
       "    </tr>\n",
       "    <tr>\n",
       "      <th>fc1_weight_2</th>\n",
       "      <td>4.157347</td>\n",
       "    </tr>\n",
       "    <tr>\n",
       "      <th>fc1_weight_3</th>\n",
       "      <td>0.487049</td>\n",
       "    </tr>\n",
       "    <tr>\n",
       "      <th>fc1_weight_4</th>\n",
       "      <td>0.280785</td>\n",
       "    </tr>\n",
       "    <tr>\n",
       "      <th>...</th>\n",
       "      <td>...</td>\n",
       "    </tr>\n",
       "    <tr>\n",
       "      <th>fc3_weight_3</th>\n",
       "      <td>0.006460</td>\n",
       "    </tr>\n",
       "    <tr>\n",
       "      <th>fc3_weight_4</th>\n",
       "      <td>93089.653287</td>\n",
       "    </tr>\n",
       "    <tr>\n",
       "      <th>fc3_weight_5</th>\n",
       "      <td>0.314354</td>\n",
       "    </tr>\n",
       "    <tr>\n",
       "      <th>fc3_weight_6</th>\n",
       "      <td>22.810324</td>\n",
       "    </tr>\n",
       "    <tr>\n",
       "      <th>fc3_weight_7</th>\n",
       "      <td>0.001719</td>\n",
       "    </tr>\n",
       "  </tbody>\n",
       "</table>\n",
       "<p>80 rows × 1 columns</p>\n",
       "</div>"
      ]
     },
     "execution_count": 195,
     "metadata": {},
     "output_type": "execute_result"
    }
   ],
   "execution_count": 195
  },
  {
   "metadata": {},
   "cell_type": "markdown",
   "source": "# Plot min. error variance of each network weight",
   "id": "f57a2308edaae485"
  },
  {
   "metadata": {
    "ExecuteTime": {
     "end_time": "2025-02-03T11:28:53.241575Z",
     "start_time": "2025-02-03T11:28:53.194574Z"
    }
   },
   "cell_type": "code",
   "source": [
    "vmin = 1e-4\n",
    "vmax = 1e10\n",
    "cnorm = mpl.colors.LogNorm(vmin=vmin, vmax=vmax)\n",
    "cmap = mpl.colormaps['seismic_r']"
   ],
   "id": "f1f54da608f3a390",
   "outputs": [],
   "execution_count": 196
  },
  {
   "metadata": {
    "ExecuteTime": {
     "end_time": "2025-02-03T11:28:58.766017Z",
     "start_time": "2025-02-03T11:28:58.618497Z"
    }
   },
   "cell_type": "code",
   "source": [
    "fig, ax = plt.subplots(figsize=(3, 2), dpi=100)\n",
    "scatter = ax.scatter(np.arange(1, error_variance.shape[0] + 1), error_variance, c=error_variance,\n",
    "                     s=5, norm=cnorm, cmap=cmap, zorder=2)\n",
    "ax.set_yscale('log')\n",
    "ax.set_ylim(vmin, vmax)\n",
    "ax.set_xlabel('connection weight #', fontsize=8)\n",
    "ax.set_ylabel('min. error variance', fontsize=8)\n",
    "ax.tick_params(axis='both', which='major', labelsize=7)\n",
    "ax.grid(zorder=0)\n",
    "ax.set_facecolor('whitesmoke')\n",
    "\n",
    "cbar = plt.colorbar(scatter)\n",
    "cbar.set_label('min. error variance', fontsize=8)\n",
    "cbar.ax.tick_params(labelsize=7)"
   ],
   "id": "d0bce93005dbd21e",
   "outputs": [
    {
     "data": {
      "text/plain": [
       "<Figure size 300x200 with 2 Axes>"
      ],
      "image/png": "[encoded data removed]"
     },
     "metadata": {},
     "output_type": "display_data"
    }
   ],
   "execution_count": 202
  },
  {
   "metadata": {},
   "cell_type": "markdown",
   "source": "# Visualize network",
   "id": "65ce83c54cca91c2"
  },
  {
   "metadata": {
    "ExecuteTime": {
     "end_time": "2025-02-03T11:28:53.473790Z",
     "start_time": "2025-02-03T11:28:53.412791Z"
    }
   },
   "cell_type": "code",
   "source": [
    "# Set connection colors equal to the error variance associated with each weight\n",
    "connection_colors = error_variance.copy()"
   ],
   "id": "686ba1330e9a369b",
   "outputs": [],
   "execution_count": 198
  },
  {
   "metadata": {
    "ExecuteTime": {
     "end_time": "2025-02-03T11:28:53.521311Z",
     "start_time": "2025-02-03T11:28:53.474794Z"
    }
   },
   "cell_type": "code",
   "source": [
    "# Set neuron colors\n",
    "input_color = 0.0 * np.ones(simulator.layer_sizes[0]) # make mask of all 0's for input layer\n",
    "hidden_output_color = 0.5*simulator.output_mask.astype(float) + 0.5 # make unmeasured neurons 0.5 & measured 1.0\n",
    "neuron_colors = np.hstack((input_color, hidden_output_color)) # stack values"
   ],
   "id": "122887336af440b8",
   "outputs": [],
   "execution_count": 199
  },
  {
   "metadata": {
    "ExecuteTime": {
     "end_time": "2025-02-03T11:28:53.583323Z",
     "start_time": "2025-02-03T11:28:53.522312Z"
    }
   },
   "cell_type": "code",
   "source": [
    "# Set colors of neurons\n",
    "cmap_neuron = np.array([[0.3, 0.3, 0.3], # input layer neurons\n",
    "                        [0.0, 0.0, 0.0],  # hidden & output layer unmeasured neurons\n",
    "                        [0.0, 0.8, 0.3]]) # hidden & output layer measured neurons\n",
    "cmap_neuron = mpl.colors.ListedColormap(cmap_neuron)\n",
    "cmap_neuron"
   ],
   "id": "ea5febabf386dbe",
   "outputs": [
    {
     "data": {
      "text/plain": [
       "<matplotlib.colors.ListedColormap at 0x1861127f100>"
      ],
      "text/html": [
       "<div style=\"vertical-align: middle;\"><strong>from_list</strong> </div><div class=\"cmap\"><img alt=\"from_list colormap\" title=\"from_list\" style=\"border: 1px solid #555;\" src=\"data:image/png;base64,iVBORw0KGgoAAAANSUhEUgAAAgAAAABACAYAAABsv8+/AAAAGHRFWHRUaXRsZQBmcm9tX2xpc3QgY29sb3JtYXBDL89FAAAAHnRFWHREZXNjcmlwdGlvbgBmcm9tX2xpc3QgY29sb3JtYXABtCnOAAAAMHRFWHRBdXRob3IATWF0cGxvdGxpYiB2My45LjIsIGh0dHBzOi8vbWF0cGxvdGxpYi5vcmdhmcVTAAAAMnRFWHRTb2Z0d2FyZQBNYXRwbG90bGliIHYzLjkuMiwgaHR0cHM6Ly9tYXRwbG90bGliLm9yZ08/WnQAAAE2SURBVHic7dZBEYAwAMAwQN/kTgaeQAK82HFNFPTZfYxxbfADc87VCfDsHKsL4JVjdQAA8D0DAABBBgAAggwAAAQZAAAIMgAAEGQAACDIAABAkAEAgCADAABBBgAAggwAAAQZAAAIMgAAEGQAACDIAABAkAEAgCADAABBBgAAggwAAAQZAAAIMgAAEGQAACDIAABAkAEAgCADAABBBgAAggwAAAQZAAAIMgAAEGQAACDIAABAkAEAgCADAABBBgAAggwAAAQZAAAIMgAAEGQAACDIAABAkAEAgCADAABBBgAAggwAAAQZAAAIMgAAEGQAACDIAABAkAEAgCADAABBBgAAggwAAAQZAAAIMgAAEGQAACDIAABAkAEAgCADAABBBgAAggwAAAQZAAAIMgAAEGQAACDoBnKSBZe4Ni2XAAAAAElFTkSuQmCC\"></div><div style=\"vertical-align: middle; max-width: 514px; display: flex; justify-content: space-between;\"><div style=\"float: left;\"><div title=\"#4c4c4cff\" style=\"display: inline-block; width: 1em; height: 1em; margin: 0; vertical-align: middle; border: 1px solid #555; background-color: #4c4c4cff;\"></div> under</div><div style=\"margin: 0 auto; display: inline-block;\">bad <div title=\"#00000000\" style=\"display: inline-block; width: 1em; height: 1em; margin: 0; vertical-align: middle; border: 1px solid #555; background-color: #00000000;\"></div></div><div style=\"float: right;\">over <div title=\"#00cc4cff\" style=\"display: inline-block; width: 1em; height: 1em; margin: 0; vertical-align: middle; border: 1px solid #555; background-color: #00cc4cff;\"></div></div></div>"
      ],
      "image/png": "[encoded data removed]"
     },
     "execution_count": 200,
     "metadata": {},
     "output_type": "execute_result"
    }
   ],
   "execution_count": 200
  },
  {
   "metadata": {
    "ExecuteTime": {
     "end_time": "2025-02-03T11:28:53.709329Z",
     "start_time": "2025-02-03T11:28:53.584315Z"
    }
   },
   "cell_type": "code",
   "source": [
    "# Create network visualizer & draw\n",
    "network = FCNNVisualizer(layer_sizes, neuron_edgewidth=1.5)\n",
    "\n",
    "# Set colors\n",
    "network.set_colors(name='connection', values=connection_colors, colormap=cmap, norm=cnorm)\n",
    "# network.set_colors(name='neuron', values=neuron_colors, colormap=cmap_neuron, norm=None)\n",
    "network.set_colors(name='neuron_edge', values=neuron_colors, colormap=cmap_neuron, norm=None)\n",
    "\n",
    "# Draw\n",
    "network.draw()"
   ],
   "id": "1ce81094e35154fa",
   "outputs": [
    {
     "data": {
      "text/plain": [
       "<Figure size 600x400 with 1 Axes>"
      ],
      "image/png": "[encoded data removed]"
     },
     "metadata": {},
     "output_type": "display_data"
    }
   ],
   "execution_count": 201
  },
  {
   "metadata": {
    "ExecuteTime": {
     "end_time": "2025-02-03T11:28:53.725330Z",
     "start_time": "2025-02-03T11:28:53.710329Z"
    }
   },
   "cell_type": "code",
   "source": "",
   "id": "ea93662abdb0a642",
   "outputs": [],
   "execution_count": 201
  }
 ],
 "metadata": {
  "kernelspec": {
   "display_name": "Python 3",
   "language": "python",
   "name": "python3"
  },
  "language_info": {
   "codemirror_mode": {
    "name": "ipython",
    "version": 2
   },
   "file_extension": ".py",
   "mimetype": "text/x-python",
   "name": "python",
   "nbconvert_exporter": "python",
   "pygments_lexer": "ipython2",
   "version": "2.7.6"
  }
 },
 "nbformat": 4,
 "nbformat_minor": 5
}
